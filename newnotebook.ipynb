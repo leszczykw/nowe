{
  "nbformat": 4,
  "nbformat_minor": 0,
  "metadata": {
    "colab": {
      "provenance": [],
      "include_colab_link": true
    },
    "kernelspec": {
      "name": "python3",
      "display_name": "Python 3"
    },
    "language_info": {
      "name": "python"
    }
  },
  "cells": [
    {
      "cell_type": "markdown",
      "metadata": {
        "id": "view-in-github",
        "colab_type": "text"
      },
      "source": [
        "<a href=\"https://colab.research.google.com/github/leszczykw/nowe/blob/natalia/newnotebook.ipynb\" target=\"_parent\"><img src=\"https://colab.research.google.com/assets/colab-badge.svg\" alt=\"Open In Colab\"/></a>"
      ]
    },
    {
      "cell_type": "code",
      "execution_count": 7,
      "metadata": {
        "id": "uRRSl0ZKQGEh"
      },
      "outputs": [],
      "source": [
        "def f1():\n",
        "  print(\"Natalia\")\n",
        "  return"
      ]
    },
    {
      "cell_type": "markdown",
      "source": [],
      "metadata": {
        "id": "t0r3HStmXEU3"
      }
    },
    {
      "cell_type": "code",
      "source": [
        "def f2():\n",
        "  return"
      ],
      "metadata": {
        "id": "tkbZhakbQxeZ"
      },
      "execution_count": 8,
      "outputs": []
    },
    {
      "cell_type": "code",
      "source": [
        "result1=f1()\n",
        "result2=f2()\n"
      ],
      "metadata": {
        "id": "wfAFEofeQ0x5",
        "outputId": "5e11fa0e-8183-48d5-b287-52b5863af34a",
        "colab": {
          "base_uri": "https://localhost:8080/"
        }
      },
      "execution_count": 9,
      "outputs": [
        {
          "output_type": "stream",
          "name": "stdout",
          "text": [
            "Natalia\n"
          ]
        }
      ]
    }
  ]
}