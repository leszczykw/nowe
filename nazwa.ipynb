{
  "nbformat": 4,
  "nbformat_minor": 0,
  "metadata": {
    "colab": {
      "provenance": [],
      "include_colab_link": true
    },
    "kernelspec": {
      "name": "python3",
      "display_name": "Python 3"
    },
    "language_info": {
      "name": "python"
    }
  },
  "cells": [
    {
      "cell_type": "markdown",
      "metadata": {
        "id": "view-in-github",
        "colab_type": "text"
      },
      "source": [
        "<a href=\"https://colab.research.google.com/github/leszczykw/nowe/blob/Nat/nazwa.ipynb\" target=\"_parent\"><img src=\"https://colab.research.google.com/assets/colab-badge.svg\" alt=\"Open In Colab\"/></a>"
      ]
    },
    {
      "cell_type": "code",
      "execution_count": 1,
      "metadata": {
        "id": "uRRSl0ZKQGEh"
      },
      "outputs": [],
      "source": [
        "def f1():\n",
        "  print(\"Natalia\")\n",
        "  return"
      ]
    },
    {
      "cell_type": "code",
      "source": [
        "def f2():\n",
        "\n",
        "  return"
      ],
      "metadata": {
        "id": "tkbZhakbQxeZ"
      },
      "execution_count": 2,
      "outputs": []
    },
    {
      "cell_type": "code",
      "source": [
        "result1=f1()\n",
        "result1=f2()"
      ],
      "metadata": {
        "id": "wfAFEofeQ0x5",
        "outputId": "2d90d32b-e80a-4923-f930-5532141ec7a9",
        "colab": {
          "base_uri": "https://localhost:8080/"
        }
      },
      "execution_count": 3,
      "outputs": [
        {
          "output_type": "stream",
          "name": "stdout",
          "text": [
            "Natalia\n"
          ]
        }
      ]
    }
  ]
}