{
  "nbformat": 4,
  "nbformat_minor": 0,
  "metadata": {
    "colab": {
      "provenance": [],
      "authorship_tag": "ABX9TyNCNHj8ijofgLct9qgy5HyK",
      "include_colab_link": true
    },
    "kernelspec": {
      "name": "python3",
      "display_name": "Python 3"
    },
    "language_info": {
      "name": "python"
    }
  },
  "cells": [
    {
      "cell_type": "markdown",
      "metadata": {
        "id": "view-in-github",
        "colab_type": "text"
      },
      "source": [
        "<a href=\"https://colab.research.google.com/github/leszczykw/nowe/blob/Wik/nazwa.ipynb\" target=\"_parent\"><img src=\"https://colab.research.google.com/assets/colab-badge.svg\" alt=\"Open In Colab\"/></a>"
      ]
    },
    {
      "cell_type": "code",
      "execution_count": 1,
      "metadata": {
        "id": "uRRSl0ZKQGEh"
      },
      "outputs": [],
      "source": [
        "def f1():\n",
        "\n",
        "  return"
      ]
    },
    {
      "cell_type": "code",
      "source": [
        "def f2():\n",
        "  print(\"Wiktor\")\n",
        "  return"
      ],
      "metadata": {
        "id": "tkbZhakbQxeZ"
      },
      "execution_count": 4,
      "outputs": []
    },
    {
      "cell_type": "code",
      "source": [
        "result1=f1()\n",
        "result1=f2()"
      ],
      "metadata": {
        "id": "wfAFEofeQ0x5",
        "outputId": "4f6109a6-b7d7-48b1-8e88-4986e4078a24",
        "colab": {
          "base_uri": "https://localhost:8080/"
        }
      },
      "execution_count": 5,
      "outputs": [
        {
          "output_type": "stream",
          "name": "stdout",
          "text": [
            "Wiktor\n"
          ]
        }
      ]
    }
  ]
}